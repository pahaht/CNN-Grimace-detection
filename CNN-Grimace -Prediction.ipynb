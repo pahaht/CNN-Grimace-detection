{
 "cells": [
  {
   "cell_type": "markdown",
   "id": "645a0e6b",
   "metadata": {},
   "source": [
    "# CNN-Grimace detection -Prediction"
   ]
  },
  {
   "cell_type": "code",
   "execution_count": null,
   "id": "3c1e0d87",
   "metadata": {},
   "outputs": [],
   "source": [
    "from tensorflow.keras.models import load_model\n",
    "from tensorflow.keras.preprocessing import image\n",
    "import numpy as np\n",
    "import matplotlib.pyplot as plt\n",
    "\n",
    "# Load the pre-trained model\n",
    "model_path = 'path_to Pre-trained\\cnn-Grimace.h5'\n",
    "model = load_model(model_path)\n",
    "\n",
    "# Define the paths to input images\n",
    "input_image_paths = ['path_to_input image\\gr1.jpg', 'path_to_input image\\gr2.jpg', 'path_to_input image\\gr4.jpg', 'path_to_input image\\gr6.jpg', 'path_to_input image\\gr11.jpg', 'path_to_input image\\gr9.jpg']\n",
    "\n",
    "# Define the grimace classes\n",
    "class_labels = ['duckface', 'eyes closed', 'left eye blink', 'open mouth', 'right eye blink', 'tongue out']\n",
    "\n",
    "# Process each input image and display the input-output pairs\n",
    "for input_image_path in input_image_paths:\n",
    "    # Load and preprocess the input image\n",
    "    img = image.load_img(input_image_path, target_size=(48, 48), color_mode='grayscale')\n",
    "    input_shape = img.size  \n",
    "    img_array = image.img_to_array(img)\n",
    "    img_array = np.expand_dims(img_array, axis=0)\n",
    "    img_array /= 255.0\n",
    "\n",
    "    # Make predictions\n",
    "    predictions = model.predict(img_array)\n",
    "\n",
    "    # Interpret predictions\n",
    "    predicted_class_index = np.argmax(predictions)\n",
    "    predicted_label = class_labels[predicted_class_index]\n",
    "\n",
    "    # Visualize the input and output images side by side\n",
    "    fig, axes = plt.subplots(1, 2, figsize=(2, 2)) \n",
    "    \n",
    "    # Display the input image\n",
    "    axes[0].imshow(img)\n",
    "    axes[0].set_title('Input ')\n",
    "    axes[0].axis('off')\n",
    "    \n",
    "    # Display the output image (resize to match input image size)\n",
    "    output_img_array = np.squeeze(img_array, axis=0)  \n",
    "    axes[1].imshow(output_img_array, cmap='gray', vmin=0, vmax=1)  \n",
    "    axes[1].set_title('Output ')\n",
    "    axes[1].axis('off')\n",
    "\n",
    "    # Print the predicted grimace emotion\n",
    "    print(\"Predicted Grimace Emotion:\", predicted_label)\n",
    "    \n",
    "    plt.show()\n"
   ]
  }
 ],
 "metadata": {
  "kernelspec": {
   "display_name": "Python 3 (ipykernel)",
   "language": "python",
   "name": "python3"
  },
  "language_info": {
   "codemirror_mode": {
    "name": "ipython",
    "version": 3
   },
   "file_extension": ".py",
   "mimetype": "text/x-python",
   "name": "python",
   "nbconvert_exporter": "python",
   "pygments_lexer": "ipython3",
   "version": "3.11.8"
  }
 },
 "nbformat": 4,
 "nbformat_minor": 5
}
